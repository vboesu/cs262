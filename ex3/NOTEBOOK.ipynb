{
 "cells": [
  {
   "cell_type": "markdown",
   "metadata": {},
   "source": [
    "# Engineering Notebook: Design Exercise 3 Scale Models and Logical Clocks Simulation"
   ]
  },
  {
   "cell_type": "markdown",
   "metadata": {},
   "source": [
    "### Start\n",
    "\n",
    "In this project, we built a simulation of a small, asynchronous distributed system running on a single machine. The goal was to model multiple virtual machines that operate at different speeds and use Lamport logical clocks to maintain event ordering. Each machine:\n",
    "- Picks a random clock rate between 1 and 6 ticks per second.\n",
    "- Has its own message queue for incoming messages.\n",
    "- Updates its Lamport clock based on local events, sends, and receives.\n",
    "- Logs every event with details like system time, logical clock value, and current queue length.\n",
    "\n",
    "This simulation helps us understand how causal ordering works in distributed systems, even when the machines run at different speeds.\n"
   ]
  },
  {
   "cell_type": "markdown",
   "metadata": {},
   "source": [
    "## Implementation Details\n",
    "\n",
    "### Virtual Machines (Processes)\n",
    "\n",
    "- **Thread-Based Simulation:**  \n",
    "  Each virtual machine is implemented as a separate Python thread. This is an easy way to simulate independent machines without the need for actual network communication.\n",
    "\n",
    "- **Clock Rate:**  \n",
    "  Every machine randomly selects a tick rate (1–6 ticks per second). The tick duration (1 divided by the tick rate) controls how fast the machine runs its loop.\n"
   ]
  },
  {
   "cell_type": "markdown",
   "metadata": {},
   "source": [
    "### Logical Clocks and Message Passing\n",
    "\n",
    "- **Message Queues:**  \n",
    "  We use Python’s `queue.Queue` to create a separate message queue for each machine. This simulates asynchronous communication between the machines.\n",
    "\n",
    "- **Lamport Clock Rules:**  \n",
    "  - **Internal Events:** The machine simply increments its logical clock by 1.  \n",
    "  - **Send Events:** The machine increments its clock by 1, sends a message (containing the current clock value) to the target machine, and logs the event.  \n",
    "  - **Receive Events:** When a message is received, the machine updates its clock to `max(local_clock, received_timestamp) + 1` and logs the receipt.\n"
   ]
  },
  {
   "cell_type": "markdown",
   "metadata": {},
   "source": [
    "### Event Handling and Logging\n",
    "\n",
    "- **Event Selection:**  \n",
    "  On each tick, a machine checks its queue first:\n",
    "  - If there’s a message, it processes it.\n",
    "  - If not, it randomly decides to send a message (to one or both other machines) or perform an internal event.\n",
    "\n",
    "- **Logging:**  \n",
    "  Each machine writes a log entry for every event. The log includes:\n",
    "  - The event type (SEND, RECEIVE, INTERNAL)\n",
    "  - The current system time (using `datetime.now()`)\n",
    "  - The current logical clock value\n",
    "  - Extra details (like which machine was sent to or from where the message came)\n",
    "  - The length of the message queue at that time\n"
   ]
  },
  {
   "cell_type": "markdown",
   "metadata": {},
   "source": [
    "### Stopping the Simulation\n",
    "\n",
    "The simulation runs for a fixed duration (e.g., 60 seconds). After that, a shared stop event is set, and all machine threads finish up, close their log files, and the program exits.\n"
   ]
  },
  {
   "cell_type": "markdown",
   "metadata": {},
   "source": [
    "## Design Decisions\n",
    "\n",
    "- **Using Threads and Queues:**  \n",
    "  We chose Python’s threads and in-memory queues because they are simple to work with and let us simulate a distributed system without the complexity of real network communication.\n",
    "\n",
    "- **Implementing Lamport Clocks:**  \n",
    "  The classic Lamport clock mechanism discussed in lecture was implemented since it is a fundamental concept in distributed systems. It helps us understand how to maintain event ordering without relying on physical clocks.\n",
    "\n",
    "- **Random Event Selection:**  \n",
    "  To mimic the unpredictable nature of distributed systems, we used randomness to decide if a machine will send a message or perform an internal event. This also allowed us to study how different event mixes affect the clock synchronization.\n",
    "\n",
    "- **File-Based Logging:**  \n",
    "  Each machine writes its events to a separate log file, which makes it easier to analyze the system’s behavior later by correlating the logs from different machines.\n"
   ]
  },
  {
   "cell_type": "markdown",
   "metadata": {},
   "source": [
    "## Challenges and Considerations\n",
    "\n",
    "1. **Simulating True Asynchrony:**  \n",
    "   - **Challenge:** Real distributed systems run on separate machines. Simulating this on one machine means we need to carefully manage timing and communication between threads.\n",
    "   - **Our Approach:** We used `time.sleep()` to simulate ticks and thread-safe queues to mimic network delays. However, the OS scheduling can sometimes introduce minor timing inaccuracies.\n",
    "\n",
    "2. **Handling Clock Drift:**  \n",
    "   - **Challenge:** Machines running at different tick rates will naturally have different logical clock values.\n",
    "   - **Our Approach:** By using the update rule `max(local, received) + 1`, we ensure that clocks adjust correctly upon receiving messages. This lets us see how the clocks drift and then re-synchronize when communication occurs."
   ]
  },
  {
   "cell_type": "markdown",
   "metadata": {},
   "source": [
    "## Observations and Reflections\n",
    "\n",
    "After running the simulation several times (multiple one-minute runs), we noted the following:\n",
    "- **Logical Clock Jumps:**  \n",
    "  When a machine receives a message with a higher timestamp, its clock jumps up significantly. This jump clearly indicates the causal dependency between machines.\n",
    "\n",
    "- **Message Queue Behavior:**  \n",
    "  The length of the message queue fluctuates over time. Periods with longer queues might indicate high communication traffic or slower processing on that machine.\n",
    "\n",
    "- **Clock Drift:**  \n",
    "  Machines with slower tick rates sometimes show more divergence in their logical clock values compared to faster machines. However, regular message exchanges help realign the clocks.\n",
    "\n",
    "- **Event Mix Impact:**  \n",
    "  A higher probability of message sends tends to keep the logical clocks more synchronized across machines, while mostly internal events can lead to larger disparities.\n"
   ]
  },
  {
   "cell_type": "markdown",
   "metadata": {},
   "source": [
    "## Conclusion\n",
    "\n",
    "This simulation allowed us to get hands-on experience with concepts like asynchronous communication, logical clock synchronization, and event ordering in distributed systems. The challenges we encountered, such as handling clock drift and simulating true asynchrony, provided valuable insights. Moreover, the project opens up many avenues for further exploration, from adding more nodes to integrating real network communication.\n"
   ]
  },
  {
   "cell_type": "markdown",
   "metadata": {},
   "source": []
  },
  {
   "cell_type": "markdown",
   "metadata": {},
   "source": []
  }
 ],
 "metadata": {
  "kernelspec": {
   "display_name": ".venv",
   "language": "python",
   "name": "python3"
  },
  "language_info": {
   "codemirror_mode": {
    "name": "ipython",
    "version": 3
   },
   "file_extension": ".py",
   "mimetype": "text/x-python",
   "name": "python",
   "nbconvert_exporter": "python",
   "pygments_lexer": "ipython3",
   "version": "3.11.5"
  }
 },
 "nbformat": 4,
 "nbformat_minor": 2
}
