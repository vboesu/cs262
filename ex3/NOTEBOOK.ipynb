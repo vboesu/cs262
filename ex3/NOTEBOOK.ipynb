{
 "cells": [
  {
   "cell_type": "markdown",
   "metadata": {},
   "source": [
    "# Engineering Notebook: Design Exercise 3 Scale Models and Logical Clocks Simulation"
   ]
  },
  {
   "cell_type": "markdown",
   "metadata": {},
   "source": [
    "### Start\n",
    "\n",
    "In this project, we built a simulation of a small, asynchronous distributed system running on a single machine. The goal was to model multiple virtual machines that operate at different speeds and use Lamport logical clocks to maintain event ordering. Each machine:\n",
    "- Picks a random clock rate between 1 and 6 ticks per second.\n",
    "- Has its own message queue for incoming messages.\n",
    "- Updates its Lamport clock based on local events, sends, and receives.\n",
    "- Logs every event with details like system time, logical clock value, and current queue length.\n",
    "\n",
    "This simulation helps us understand how causal ordering works in distributed systems, even when the machines run at different speeds.\n"
   ]
  },
  {
   "cell_type": "markdown",
   "metadata": {},
   "source": [
    "## Implementation Details\n",
    "\n",
    "### Virtual Machines (Processes)\n",
    "\n",
    "- **Thread-Based Simulation:**  \n",
    "  Each virtual machine is implemented as a separate Python thread. We found that using threads made it straightforward to simulate independent machines without dealing with the complexities of real network communication.\n",
    "\n",
    "- **Clock Rate:**  \n",
    "  Every machine randomly selects a tick rate (1–6 ticks per second). The tick duration (1 divided by the tick rate) controls how fast the machine runs its loop.\n"
   ]
  },
  {
   "cell_type": "markdown",
   "metadata": {},
   "source": [
    "### Logical Clocks and Message Passing\n",
    "\n",
    "- **Message Queues:**  \n",
    "  We used Python’s queue.Queue to create an individual message queue for each machine. This approach effectively simulates asynchronous communication between the virtual machines.\n",
    "\n",
    "- **Lamport Clock Rules:**  \n",
    "  - **Internal Events:** The machine simply increments its logical clock by 1.  \n",
    "  - **Send Events:** The machine increments its clock by 1, sends a message (containing the current clock value) to the target machine, and logs the event.  \n",
    "  - **Receive Events:** When a message is received, the machine updates its clock to `max(local_clock, received_timestamp) + 1` and logs the receipt.\n"
   ]
  },
  {
   "cell_type": "markdown",
   "metadata": {},
   "source": [
    "### Event Handling and Logging\n",
    "\n",
    "- **Event Selection:**  \n",
    "  During each tick, the machine first checks its message queue:\n",
    "  - If a message is waiting, it processes that message.\n",
    "  - If the queue is empty, it randomly decides whether to send a message (to one or both of the other machines) or to perform an internal event.\n",
    "\n",
    "- **Logging:**  \n",
    "  Every time an event occurs, the machine writes a log entry. Each log entry contains:\n",
    "  - The event type (SEND, RECEIVE, INTERNAL)\n",
    "  - The current system time (using `datetime.now()`)\n",
    "  - The current logical clock value\n",
    "  - Additional details (for example, which machine the message was sent to or where it came from)\n",
    "  - The length of the message queue at that moment\n"
   ]
  },
  {
   "cell_type": "markdown",
   "metadata": {},
   "source": [
    "### Stopping the Simulation\n",
    "\n",
    "The simulation runs for a predetermined duration (for example here is 60 seconds). Once this time is up, a shared stop event is triggered, all machine threads wrap up their tasks, close their log files, and then the program exits.\n"
   ]
  },
  {
   "cell_type": "markdown",
   "metadata": {},
   "source": [
    "## Design Decisions\n",
    "\n",
    "- **Using Threads and Queues:**  \n",
    "  We chose Python’s threads and in-memory queues because they are simple to work with and let us simulate a distributed system without the complexity of real network communication.\n",
    "\n",
    "- **Implementing Lamport Clocks:**  \n",
    "  The classic Lamport clock mechanism discussed in lecture was implemented since it is a fundamental concept in distributed systems. It helps us understand how to maintain event ordering without relying on physical clocks.\n",
    "\n",
    "- **Random Event Selection:**  \n",
    "  To mimic the unpredictable nature of distributed systems, we used randomness to decide if a machine will send a message or perform an internal event. This also allowed us to study how different event mixes affect the clock synchronization.\n",
    "\n",
    "- **File-Based Logging:**  \n",
    "  Each machine writes its events to a separate log file, which makes it easier to analyze the system’s behavior later by correlating the logs from different machines.\n"
   ]
  },
  {
   "cell_type": "markdown",
   "metadata": {},
   "source": [
    "### Challenges and Considerations\n",
    "\n",
    "1. **Simulating True Asynchrony:**  \n",
    "   - **Challenge:** Real distributed systems run on separate machines. Simulating this on one machine means we need to carefully manage timing and communication between threads.\n",
    "   - **Our Approach:** We used `time.sleep()` to simulate ticks and thread-safe queues to mimic network delays. However, the OS scheduling can sometimes introduce minor timing inaccuracies.\n",
    "\n",
    "2. **Handling Clock Drift:**  \n",
    "   - **Challenge:** Machines running at different tick rates will naturally have different logical clock values.\n",
    "   - **Our Approach:** By using the update rule `max(local, received) + 1`, we ensure that clocks adjust correctly upon receiving messages. This lets us see how the clocks drift and then re-synchronize when communication occurs."
   ]
  },
  {
   "cell_type": "markdown",
   "metadata": {},
   "source": [
    "### Observations and Reflections\n",
    "\n",
    "After running the simulation several times (multiple one-minute runs), we noted the following:\n",
    "- **Logical Clock Jumps:**  \n",
    "  When a machine gets a message with a higher timestamp, its clock jumps noticeably. This behavior shows the causal dependency between machines.\n",
    "\n",
    "- **Message Queue Behavior:**  \n",
    "  The size of the message queue varies over time. Sometimes, longer queues hint at periods of high communication traffic or slower processing.\n",
    "\n",
    "- **Clock Drift:**  \n",
    "  Machines running at slower tick rates sometimes diverge more in their logical clock values than faster machines, although regular message exchanges help bring them back in sync.\n",
    "\n",
    "- **Event Mix Impact:**  \n",
    "  A higher chance of sending messages helps keep the logical clocks more aligned across machines, while too many internal events can lead to larger differences.\n"
   ]
  },
  {
   "cell_type": "markdown",
   "metadata": {},
   "source": [
    "\n",
    "## Implementation Details (Variant)\n",
    "\n",
    "After our initial experiments with three virtual machines running with random clock rates between 1 and 6 ticks per second and a 70% chance of performing an internal event, we decided to explore another scenario. In this variant, we reduced the variation in clock cycles (using only 3 or 4 ticks per second) and lowered the probability of an internal event (down to 20%). This adjustment makes message passing more dominant in the simulation, and we wanted to see how this affects the synchronization and behavior of the Lamport clocks.\n",
    "\n",
    "### Changes Made\n",
    "\n",
    "1. **Smaller Variation in Clock Cycles:**  \n",
    "   - **Before:** Each machine randomly picks a tick rate between 1 and 6 ticks per second, which determines how frequently it processes events. The tick duration is simply 1 divided by this tick rate.\n",
    "   - **Now:** Each machine chooses from a much narrower range (either 3 or 4 ticks per second).  \n",
    "   - **Why?**  \n",
    "     This change reduces the timing differences between machines, which helps us observe whether the logical clocks become more aligned when the machines run at similar speeds.\n",
    "\n",
    "2. **Lower Probability of Internal Events:**  \n",
    "   - **Before:** A random integer from 1 to 10 was used, with internal events occurring 70% of the time (if the number was 4–10).  \n",
    "   - **Now:** We use a random number between 0 and 1 with the following probabilities:\n",
    "     - 30% chance to send a message to a random other machine.\n",
    "     - 30% chance to send a message to the next machine in order.\n",
    "     - 20% chance to send messages to both other machines.\n",
    "     - 20% chance for an internal event.\n",
    "   - **Why?**  \n",
    "     By reducing the chance of internal events, we force more interactions between machines. This should help keep the logical clocks more synchronized and result in fewer large jumps due to message receptions.\n"
   ]
  },
  {
   "cell_type": "markdown",
   "metadata": {},
   "source": [
    "### Observations and Reflections (Variant)\n",
    "\n",
    "After running the variant simulation for several one-minute sessions, here’s what we observed:\n",
    "\n",
    "- **Logical Clock Synchronization:**  \n",
    "With the narrower tick rate (only 3 or 4 ticks per second) and more frequent message passing, the logical clocks stayed much closer together. The constant exchanges kept them from drifting apart.\n",
    "\n",
    "- **Reduced Clock Jumps:**  \n",
    "Because messages were sent more often, there were fewer instances of sudden, large jumps in the clock values. In the earlier setup, a message with a high timestamp could cause a big jump; now, the differences are more subtle.\n",
    "\n",
    "- **Message Traffic:**  \n",
    "The logs revealed that machines sent more messages and did fewer internal events. This made the overall system more interactive, reinforcing the causal ordering.\n",
    "\n",
    "- **System Stability:**  \n",
    "Overall, the system felt more stable, with less drift among the logical clocks—a useful observation for systems that need tight synchronization.\n"
   ]
  },
  {
   "cell_type": "markdown",
   "metadata": {},
   "source": []
  },
  {
   "cell_type": "markdown",
   "metadata": {},
   "source": []
  }
 ],
 "metadata": {
  "kernelspec": {
   "display_name": ".venv",
   "language": "python",
   "name": "python3"
  },
  "language_info": {
   "codemirror_mode": {
    "name": "ipython",
    "version": 3
   },
   "file_extension": ".py",
   "mimetype": "text/x-python",
   "name": "python",
   "nbconvert_exporter": "python",
   "pygments_lexer": "ipython3",
   "version": "3.11.5"
  }
 },
 "nbformat": 4,
 "nbformat_minor": 2
}
