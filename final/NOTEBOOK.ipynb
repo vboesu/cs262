{
 "cells": [
  {
   "cell_type": "markdown",
   "id": "2ef648cf",
   "metadata": {},
   "source": [
    "# Engineering Notebook Final Project"
   ]
  },
  {
   "cell_type": "markdown",
   "id": "0de9767c",
   "metadata": {},
   "source": [
    "Goal: develop a replicated, distributed database system which supports both strongly consistent data and eventually consistent data. The idea is that writes and reads can be directed to any of the replicated databases, with consistency guarantees only for those tables/columns marked as strongly consistent."
   ]
  },
  {
   "cell_type": "markdown",
   "id": "bdb730a9",
   "metadata": {},
   "source": [
    "Challenges brainstorm:\n",
    "- We need to use non-sequenced primary keys to make sure that foreign keys can be made to work\n",
    "- At what level do we implement the consistency requirements? Do we just create separate servers, each with their own database, that receive instructions via sockets?\n",
    "- Queries that involve columns/tables of mixed consistency requirements are difficult\n",
    "- Do we send the replication before or after the commit on the first replica? -> Has to be before to avoid rolling back a transaction\n",
    "- Can every replica initiate a strongly consistent transaction or do we have a leader to whom those transactions are forwarded?\n",
    "    - Edge case: a strongly consistent column only gets changed by `onupdate` (or `default`), especially bad in case where this is a timestamp (now why would you ever do that, I'm not sure)\n",
    "- How can we do Python defaults at a transaction level (e.g. set the CURRENT_TIMESTAMP to be the same for all objects in a transaction without going back and forth to the database)?\n",
    "- How can we make sure that only the columns/tables affected by a transaction are \"locked\" for the duration of a strong transaction?"
   ]
  },
  {
   "cell_type": "markdown",
   "id": "86be288f",
   "metadata": {},
   "source": []
  },
  {
   "cell_type": "markdown",
   "id": "5fb76115",
   "metadata": {},
   "source": [
    "If strongly consistent, need to get the majority/everyonen on board; then \n",
    "Weakly consistent; store locally; then pass onto all other replicas on whatever time we want; "
   ]
  },
  {
   "cell_type": "markdown",
   "metadata": {},
   "source": [
    "if we read from a strongly consistent thing; we have to also ask the leader; who will inform if it is still in the process of informing all replicas that a strongly consistent write is happening. \n",
    "\n",
    "what happens if you send the same transaction twice or to multiple machines; there should be a log on that machine if it did not go down or a different machine that is still up that help check if the thing has already been done it does not get done twice. \n",
    "\n",
    "leader election; the config.json file specifies possible ports; having one leader; if it goes down sometime then the first machine that detects this send a message starting from the machine with the lowest port number; and it gets elected as the leader. \n",
    "\n",
    "\n",
    "Load Balancer: not sure for now; think later"
   ]
  }
 ],
 "metadata": {
  "language_info": {
   "name": "python"
  }
 },
 "nbformat": 4,
 "nbformat_minor": 5
}
