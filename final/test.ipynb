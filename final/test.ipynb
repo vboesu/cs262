{
 "cells": [
  {
   "cell_type": "code",
   "execution_count": 1,
   "id": "b1afdfd2",
   "metadata": {},
   "outputs": [],
   "source": [
    "import random\n",
    "import string\n",
    "import secrets\n",
    "import time\n",
    "import concurrent.futures\n",
    "\n",
    "from uuid import uuid4\n",
    "from datetime import datetime\n",
    "\n",
    "import requests\n",
    "from tqdm import trange"
   ]
  },
  {
   "cell_type": "code",
   "execution_count": 2,
   "id": "2daac675",
   "metadata": {},
   "outputs": [],
   "source": [
    "def create_user(user_id: str | None = None):\n",
    "    user_id = user_id or uuid4().hex\n",
    "    username = \"\".join(random.choices(string.ascii_letters, k=10))\n",
    "    name = \"\".join(random.choices(string.ascii_letters, k=10))\n",
    "    res = requests.post(\"http://localhost:8888/users\", json={\n",
    "        \"id\": user_id,\n",
    "        \"username\": username,\n",
    "        \"name\": name,\n",
    "        \"password_hash\": secrets.token_hex(16),\n",
    "        \"created\": datetime.now().strftime(\"%Y-%m-%d %H:%M:%S.%f\"),\n",
    "    })\n",
    "    assert res.status_code == 200\n",
    "\n",
    "def create_post(user: str):\n",
    "    post_id = uuid4().hex\n",
    "    content = \"\".join(random.choices(string.ascii_letters, k=64))\n",
    "    res = requests.post(\"http://localhost:8888/posts\", json={\n",
    "        \"id\": post_id,\n",
    "        \"user_id\": user,\n",
    "        \"content\": content,\n",
    "        \"created\": datetime.now().strftime(\"%Y-%m-%d %H:%M:%S.%f\"),\n",
    "    })\n",
    "    assert res.status_code == 200\n",
    "\n",
    "def create_user_and_posts(n_posts: int = 10):\n",
    "    user_id = uuid4().hex\n",
    "    create_user(user_id)\n",
    "\n",
    "    for _ in range(n_posts):\n",
    "        create_post(user_id)\n",
    "\n",
    "def get_users():\n",
    "    res = requests.get(\"http://localhost:8888/users\")\n",
    "    assert res.status_code == 200"
   ]
  },
  {
   "cell_type": "code",
   "execution_count": 6,
   "id": "e4ca7ee5",
   "metadata": {},
   "outputs": [],
   "source": [
    "create_user()"
   ]
  },
  {
   "cell_type": "code",
   "execution_count": 23,
   "id": "ae6da8f5",
   "metadata": {},
   "outputs": [
    {
     "name": "stderr",
     "output_type": "stream",
     "text": [
      "100%|██████████| 1000/1000 [00:02<00:00, 357.36it/s]\n"
     ]
    }
   ],
   "source": [
    "for _ in trange(1000):\n",
    "    get_users()"
   ]
  },
  {
   "cell_type": "code",
   "execution_count": 24,
   "id": "bb7fd74e",
   "metadata": {},
   "outputs": [
    {
     "name": "stderr",
     "output_type": "stream",
     "text": [
      "100%|██████████| 1000/1000 [00:00<00:00, 1577.80it/s]\n"
     ]
    }
   ],
   "source": [
    "with concurrent.futures.ThreadPoolExecutor(max_workers=100) as pool:\n",
    "    for _ in trange(1000):\n",
    "        pool.submit(get_users)"
   ]
  },
  {
   "cell_type": "code",
   "execution_count": 8,
   "id": "a1e4c70f",
   "metadata": {},
   "outputs": [],
   "source": [
    "create_user()"
   ]
  },
  {
   "cell_type": "code",
   "execution_count": 26,
   "id": "2a2a3826",
   "metadata": {},
   "outputs": [
    {
     "name": "stderr",
     "output_type": "stream",
     "text": [
      "100%|██████████| 1000/1000 [00:04<00:00, 215.04it/s]\n"
     ]
    }
   ],
   "source": [
    "for _ in trange(1000):\n",
    "    create_user()"
   ]
  },
  {
   "cell_type": "code",
   "execution_count": 10,
   "id": "e799c438",
   "metadata": {},
   "outputs": [
    {
     "name": "stderr",
     "output_type": "stream",
     "text": [
      "100%|██████████| 1000/1000 [00:58<00:00, 17.17it/s]\n"
     ]
    }
   ],
   "source": [
    "for _ in trange(1000):\n",
    "    create_user()"
   ]
  },
  {
   "cell_type": "code",
   "execution_count": 18,
   "id": "40c18ff6",
   "metadata": {},
   "outputs": [
    {
     "name": "stderr",
     "output_type": "stream",
     "text": [
      "100%|██████████| 1000/1000 [00:58<00:00, 17.06it/s]\n"
     ]
    }
   ],
   "source": [
    "for _ in trange(1000):\n",
    "    create_user()"
   ]
  },
  {
   "cell_type": "code",
   "execution_count": 146,
   "id": "21a32bea",
   "metadata": {},
   "outputs": [
    {
     "name": "stderr",
     "output_type": "stream",
     "text": [
      "100%|██████████| 1000/1000 [00:00<00:00, 7568.60it/s]\n"
     ]
    }
   ],
   "source": [
    "with concurrent.futures.ThreadPoolExecutor(max_workers=100) as pool:\n",
    "    for _ in trange(1000):\n",
    "        pool.submit(create_user)"
   ]
  },
  {
   "cell_type": "code",
   "execution_count": 4,
   "id": "21341ee6",
   "metadata": {},
   "outputs": [],
   "source": [
    "create_post(\"b1a6851b83a34f3da9436d483d852e49\")"
   ]
  },
  {
   "cell_type": "code",
   "execution_count": 19,
   "id": "88a4719f",
   "metadata": {},
   "outputs": [
    {
     "name": "stderr",
     "output_type": "stream",
     "text": [
      "100%|██████████| 1000/1000 [00:04<00:00, 233.95it/s]\n"
     ]
    }
   ],
   "source": [
    "for _ in trange(1000):\n",
    "    create_post(\"5ab0e437eef04ba2967f9f8ccb4a266f\")"
   ]
  },
  {
   "cell_type": "code",
   "execution_count": 27,
   "id": "550e43c1",
   "metadata": {},
   "outputs": [
    {
     "name": "stderr",
     "output_type": "stream",
     "text": [
      "100%|██████████| 1000/1000 [00:00<00:00, 6785.18it/s]\n"
     ]
    }
   ],
   "source": [
    "with concurrent.futures.ThreadPoolExecutor(max_workers=100) as pool:\n",
    "    for _ in trange(1000):\n",
    "        pool.submit(create_post, \"88d9eb5e1bc74e0aafc2ebbfb6158ef7\")"
   ]
  },
  {
   "cell_type": "code",
   "execution_count": 8,
   "id": "2338c259",
   "metadata": {},
   "outputs": [
    {
     "name": "stderr",
     "output_type": "stream",
     "text": [
      "100%|██████████| 100/100 [00:13<00:00,  7.54it/s]\n"
     ]
    }
   ],
   "source": [
    "for _ in trange(100):\n",
    "    create_user_and_posts()"
   ]
  },
  {
   "cell_type": "code",
   "execution_count": 9,
   "id": "f0fd16c1",
   "metadata": {},
   "outputs": [
    {
     "name": "stderr",
     "output_type": "stream",
     "text": [
      "100%|██████████| 100/100 [00:00<00:00, 1310.13it/s]\n"
     ]
    }
   ],
   "source": [
    "with concurrent.futures.ThreadPoolExecutor(max_workers=100) as pool:\n",
    "    for _ in trange(100):\n",
    "        pool.submit(create_user_and_posts)"
   ]
  }
 ],
 "metadata": {
  "kernelspec": {
   "display_name": ".venv",
   "language": "python",
   "name": "python3"
  },
  "language_info": {
   "codemirror_mode": {
    "name": "ipython",
    "version": 3
   },
   "file_extension": ".py",
   "mimetype": "text/x-python",
   "name": "python",
   "nbconvert_exporter": "python",
   "pygments_lexer": "ipython3",
   "version": "3.11.5"
  }
 },
 "nbformat": 4,
 "nbformat_minor": 5
}
