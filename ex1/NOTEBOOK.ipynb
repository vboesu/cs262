{
 "cells": [
  {
   "cell_type": "markdown",
   "metadata": {},
   "source": [
    "# Engineering Notebook: Design Exercise 1"
   ]
  },
  {
   "cell_type": "markdown",
   "metadata": {},
   "source": [
    "### Ideas for the Wire Protocol\n",
    "\n",
    "- Use TCP/IP as template\n",
    "    - Do we need IP addresses in the header?\n",
    "    - How can we verify packets?\n",
    "- VBS: Should we use some kind of compression for the message contents?\n",
    "    - VBS: Maybe not, let's keep it simple\n",
    "- Features:\n",
    "    - Header version\n",
    "    - Header checksum\n",
    "    - Content checksum\n",
    "\n",
    "- What type of data are we sending across?\n",
    "    - Operations + arguments (e.g. page/pagination, optional arguments)\n",
    "    - Strings (e.g. name, password hash, error messages)\n",
    "    - Status code (from the server to detect errors)\n",
    "    - Arrays of strings -> could be sent as string of strings separated by commas like a CSV\n",
    "\n",
    "- How do you specify which messages you want to delete?\n",
    "    - Could go by message ID individually\n",
    "    - Could go by sender/receiver name"
   ]
  },
  {
   "cell_type": "markdown",
   "metadata": {},
   "source": []
  }
 ],
 "metadata": {
  "language_info": {
   "name": "python"
  }
 },
 "nbformat": 4,
 "nbformat_minor": 2
}
