{
 "cells": [
  {
   "cell_type": "markdown",
   "metadata": {},
   "source": [
    "# Engineering Notebook: Design Exercise 1"
   ]
  },
  {
   "cell_type": "markdown",
   "metadata": {},
   "source": [
    "### Ideas for the Wire Protocol\n",
    "\n",
    "- Use TCP/IP as template\n",
    "    - Do we need IP addresses in the header?\n",
    "    - How can we verify packets?\n",
    "- VBS: Should we use some kind of compression for the message contents?\n",
    "    - VBS: Maybe not, let's keep it simple\n",
    "- Header (8 bytes):\n",
    "    - Version (1 byte)\n",
    "    - Request code (think: HTTP status code but also use this to specify the operation) (1 byte)\n",
    "    - Flags/status (2 bytes) -> for the future, also padding\n",
    "    - Packet checksum (2 bytes)\n",
    "    - Payload length (2 bytes)\n",
    "\n",
    "- What type of data are we sending across?\n",
    "    - Operations + arguments (e.g. page/pagination, optional arguments)\n",
    "    - Strings (e.g. name, password hash, error messages)\n",
    "    - Status code (from the server to detect errors)\n",
    "    - Arrays of strings -> could be sent as string of strings separated by commas like a CSV\n",
    "        - VBS: we need to allow for commas in a string, should we just use ascii and then have a special non-ascii character for either both end of string and end of item or a separate one for end of item and end of string, kind of like '\\0' in C?\n",
    "        - Let's not use this. Let's use another, more flexible encoding instead\n",
    "    - Assuming that we never need to send over dictionaries but at most lists, we can use an encoding for \"fields\" like this:\n",
    "        - Field ID (1 byte), Field Length (2 bytes), Field Value (bytes)\n",
    "        - This would mean that the client and server need to agree on which field ID corresponds to which field (e.g. username -> ID 1 etc.), and -- importantly -- what the *type* of each field is (e.g. float, string, unsigned int/int, list of float/string etc.); also, there are only 2^8 = 255 possible fields we can use which should be enough for this application but may cause issues in the future if there is a lot of data that we need to transmit\n",
    "            - One possible workaround for this is to have an \"OTHER\" value kind of like in UTF-8 where if the first bit is set, you actually read 2 bytes for the field ID and use that as your index; this would be much more flexible but also more work to implement\n",
    "        - Do we want to allow lists of different types? Probably not necessary\n",
    "        - Side note: we can store the types efficiently using some byte flag for \"list\" and then different byte values for the type, and then check if \"list & type\" is 1 to detect that it's a list\n",
    "        - We should agree that we're using little-endian for all communication\n",
    "            - Is there any way to define flexible length types, e.g. specify \"int\" but then allow 8-byte integers?\n",
    "    - This doesn't let us send lists of lists or lists of dictionaries or lists of a custom struct. Could be a problem when we're sending all unread messages, since this would probably be a list of lists or a list of dicts or a list of \"Message\"s; or rather, it would introduce more overhead because we first need to send back the IDs of the messages and then request each of them individually. Might be something we're willing to compromise on\n",
    "        - We could do a similar thing as with the lists and define an \"object\" flag which is then interpreted as a dictionary with custom types; for this, we also need to allow lists of objects or more generally, lists of different types\n",
    "        - This is fine in Python but could cause problems in other languages like C\n",
    "\n",
    "\n",
    "- How do you specify which messages you want to delete?\n",
    "    - Could go by message ID individually\n",
    "    - Could go by sender/receiver name"
   ]
  },
  {
   "cell_type": "markdown",
   "metadata": {},
   "source": [
    "### General Notes\n",
    "- Each request should carry a token to indicate that the user is logged in and to map the request to the correct account. Do we refresh this token? How often? Does the server just send back the new token with each request? In that case, what do we do if a packet is lost; this would automatically log the user out"
   ]
  },
  {
   "cell_type": "markdown",
   "metadata": {},
   "source": [
    "### User Interface Design\n",
    "\n",
    "- How do we display the unread messages?\n",
    "    - VBS: Maybe users want to be able to open the app without reading *any* messages, so we should only load messages on request\n",
    "    - We can either group them by conversation or just give a stream of messages ordered by timestamp\n",
    "    - Think: \"Refresh mail\" button in any standard Mail program\n",
    "- To send a message, should users be able to click on a conversation and send a message there or do we just have two input fields, one for the user name and one for the message, and then you just have to input the user name every time"
   ]
  },
  {
   "cell_type": "markdown",
   "metadata": {},
   "source": [
    "### Data Storage\n",
    "- How do we want to store the data? Should we just keep stuff in memory, should we use an actual database (e.g. sqlite) or just keep stuff in one or multiple JSON files?"
   ]
  },
  {
   "cell_type": "markdown",
   "metadata": {},
   "source": [
    "VBS says:\n",
    "\n",
    "1. first check if account exists, if yes then check hash of password matches, (send string of hash and username over network); if no then client shows an error of account does not exist then allow to put in password (which client then hashes). if successful then always use username password hash as our token (extension is valid for some period of time)\n",
    "\n",
    "2. basically the same as above; check if account exists and check if password match. also send back the number of unread messages\n",
    "\n",
    "3. send search pattern, what page we are on, how big are the pages; \n",
    "\n",
    "4. specify the person through user ID or username, we need to keep track of the sockets belongs to which user, once destroyed also keep track of who is destroyed; we will store everything when it is not logged in, otherwise send immediately; get some form of confirmation all good back\n",
    "\n",
    "5. send back bunch of mesages at once using the object thing; what if the message is super long? (think about this). be able to send a request to the server of how many messages we want, if there are none just send back something; \n",
    "\n",
    "6. delete a specific message - needs an ID then client interprets and checks if you can delete this message; also the similar for a list of messages; for a whole conversation - separate action for deleting conversation with a username/userID; delete account - can only delete your account, what happens to our messages? (policy: every message you send and sent to you are gone)\n",
    "\n",
    "7. front end\n",
    "\n",
    "\n",
    "\n",
    "To Do:\n",
    "\n",
    "1. make a small library that takes data and turn into wireprotocl (bytes); and translate it back; probably use UTS-8 for strings interpretation\n",
    "\n",
    "2. user interface, graphic interface for the client\n",
    "- how do we display messages, unread messages gets added to the top, all previous read messages at the bottom(let us not do conversations)\n",
    "\n",
    "- when you log in, you see all previous messages, and shows how many unread messages, and you can ask for some number of unread messages; do this in pages, \n",
    "\n",
    "3. server side + database storage\n"
   ]
  },
  {
   "cell_type": "markdown",
   "metadata": {},
   "source": [
    "## Code Ideas"
   ]
  },
  {
   "cell_type": "markdown",
   "metadata": {},
   "source": [
    "Some ideas for what the field ID to field mapping could look like so that the data becomes a bit easier to use for the programmer and we don't need to know all of the field IDs by heart:"
   ]
  },
  {
   "cell_type": "code",
   "execution_count": null,
   "metadata": {
    "vscode": {
     "languageId": "plaintext"
    }
   },
   "outputs": [],
   "source": [
    "key_to_field_id = {\n",
    "    \"username\": 0,\n",
    "    \"password_digest\": 1,\n",
    "}\n",
    "\n",
    "key_to_field_type = {\n",
    "    \"username\": str,\n",
    "    \"password_digest\": str,\n",
    "    \"asdkjh\": int,\n",
    "}\n",
    "\n",
    "def get(data, field: str, default = None):\n",
    "    if field in key_to_field_id:\n",
    "        return data[key_to_field_id[id]]\n",
    "    \n",
    "    return default"
   ]
  },
  {
   "cell_type": "code",
   "execution_count": null,
   "metadata": {
    "vscode": {
     "languageId": "plaintext"
    }
   },
   "outputs": [],
   "source": [
    "protocol:\n",
    "    field ID, field type, field size, field content\n",
    "    1 byte, "
   ]
  },
  {
   "cell_type": "code",
   "execution_count": null,
   "metadata": {
    "vscode": {
     "languageId": "plaintext"
    }
   },
   "outputs": [],
   "source": []
  },
  {
   "cell_type": "code",
   "execution_count": null,
   "metadata": {
    "vscode": {
     "languageId": "plaintext"
    }
   },
   "outputs": [],
   "source": [
    "sending: list of messages"
   ]
  },
  {
   "cell_type": "code",
   "execution_count": null,
   "metadata": {
    "vscode": {
     "languageId": "plaintext"
    }
   },
   "outputs": [],
   "source": [
    "0x20 -> list\n",
    "0x21 -> list of int\n",
    "0x22 -> list of str"
   ]
  },
  {
   "cell_type": "code",
   "execution_count": null,
   "metadata": {
    "vscode": {
     "languageId": "plaintext"
    }
   },
   "outputs": [],
   "source": [
    "class Message:\n",
    "    id: int\n",
    "    content: str\n",
    "    from_id: int\n",
    "    to_id: int\n",
    "    timestamp: datetime"
   ]
  },
  {
   "cell_type": "code",
   "execution_count": null,
   "metadata": {
    "vscode": {
     "languageId": "plaintext"
    }
   },
   "outputs": [],
   "source": [
    "{\n",
    "    \"version\": 1,\n",
    "    \"operation\": \"list\",\n",
    "    \"arguments\": {\n",
    "        \"search\": \"hello\"\n",
    "    }\n",
    "}"
   ]
  },
  {
   "cell_type": "code",
   "execution_count": null,
   "metadata": {
    "vscode": {
     "languageId": "plaintext"
    }
   },
   "outputs": [],
   "source": [
    "what the request would look like with JSON:\n",
    "\n",
    "request\n",
    "\n",
    "{\n",
    "    \"version\": 1,\n",
    "    \"operation\": \"messages\",\n",
    "    \"arguments\": {\n",
    "        \"number\": 3\n",
    "    }\n",
    "}\n",
    "\n",
    "response \n",
    "\n",
    "{\n",
    "    \"version\": 1,\n",
    "    \"status\": \"success\",\n",
    "    \"items\": [\n",
    "        {\n",
    "            \"message_id\": 1,\n",
    "            \"sender\": \"user_1\",\n",
    "            \"message\": \"hey\",\n",
    "            \"timestamp\": \"2025-01-01\"\n",
    "        },\n",
    "        {\n",
    "            \"message_id\": 2,\n",
    "            \"sender\": \"user_1\",\n",
    "            \"message\": \"what's up?\",\n",
    "            \"timestamp\": \"2025-01-01\"\n",
    "        },\n",
    "        {\n",
    "            \"message_id\": 3,\n",
    "            \"sender\": \"user_2\",\n",
    "            \"message\": \"yooo\",\n",
    "            \"timestamp\": \"2025-01-01\"\n",
    "        }\n",
    "    ],\n",
    "    \"remaining\": 2\n",
    "}\n"
   ]
  },
  {
   "cell_type": "code",
   "execution_count": null,
   "metadata": {
    "vscode": {
     "languageId": "plaintext"
    }
   },
   "outputs": [],
   "source": [
    "what the same request would look like with our protocol:\n",
    "\n",
    "request: ..., operation = messages, quantity = 3\n",
    "response: ..., items = [1, 2, 3], remaining = 2\n",
    "request: ..., operation = message_detail, id = 1\n",
    "response: ..., message = [\"user_1\", \"hey\", \"2025-01-01\"]\n",
    "request: ..., operation = message_detail, id = 2\n",
    "response: ..., message = [\"user_1\", \"what's up?\", \"2025-01-01\"]\n",
    "request: ..., operation = message_detail, id = 3\n",
    "response: ..., message = [\"user_2\", \"yooo\", \"2025-01-01\"]"
   ]
  },
  {
   "cell_type": "code",
   "execution_count": null,
   "metadata": {
    "vscode": {
     "languageId": "plaintext"
    }
   },
   "outputs": [],
   "source": [
    "{\n",
    "    \"messages\": [\n",
    "        {\n",
    "            \"id\": 1,\n",
    "            \"content\": \"My message\",\n",
    "            \"from_id\": 2,\n",
    "            \"to_id\": 3,\n",
    "            \"timestamp\": \"2025-01-01\"\n",
    "        }\n",
    "    ],\n",
    "    \"users\": [\n",
    "        {\n",
    "            \"id\": \n",
    "        }\n",
    "    ]\n",
    "}"
   ]
  },
  {
   "cell_type": "code",
   "execution_count": null,
   "metadata": {
    "vscode": {
     "languageId": "plaintext"
    }
   },
   "outputs": [],
   "source": [
    "message = [\n",
    "    \"user_name\",\n",
    "    \"message\",\n",
    "    \"timestamp\"\n",
    "]"
   ]
  },
  {
   "cell_type": "code",
   "execution_count": null,
   "metadata": {
    "vscode": {
     "languageId": "plaintext"
    }
   },
   "outputs": [],
   "source": [
    "request: give me the messages\n",
    "response: here are the message IDs (all integers)\n",
    "for each message ID:\n",
    "    request: give me the message (message ID)\n",
    "    response: here is the message (list of str)"
   ]
  },
  {
   "cell_type": "code",
   "execution_count": null,
   "metadata": {
    "vscode": {
     "languageId": "plaintext"
    }
   },
   "outputs": [],
   "source": [
    "send(\"message\", {\"to\": \"test_user\", \"message\": \"hello\"})"
   ]
  },
  {
   "cell_type": "code",
   "execution_count": null,
   "metadata": {
    "vscode": {
     "languageId": "plaintext"
    }
   },
   "outputs": [],
   "source": [
    "\"hello\"\n",
    "\n",
    "message -> 3\n",
    "field_type -> str\n",
    "field_length -> 5"
   ]
  }
 ],
 "metadata": {
  "language_info": {
   "name": "python"
  }
 },
 "nbformat": 4,
 "nbformat_minor": 2
}
