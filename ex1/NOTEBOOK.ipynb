{
 "cells": [
  {
   "cell_type": "markdown",
   "metadata": {},
   "source": [
    "# Engineering Notebook: Design Exercise 1"
   ]
  },
  {
   "cell_type": "markdown",
   "metadata": {},
   "source": [
    "### Ideas for the Wire Protocol\n",
    "\n",
    "- Use TCP/IP as template\n",
    "    - Do we need IP addresses in the header?\n",
    "    - How can we verify packets?\n",
    "- VBS: Should we use some kind of compression for the message contents?\n",
    "    - VBS: Maybe not, let's keep it simple\n",
    "- Header (8 bytes):\n",
    "    - Version (1 byte)\n",
    "    - Request code (think: HTTP status code but also use this to specify the operation) (1 byte)\n",
    "    - Flags/status (2 bytes) -> for the future, also padding\n",
    "    - Packet checksum (2 bytes)\n",
    "    - Payload length (2 bytes)\n",
    "\n",
    "- What type of data are we sending across?\n",
    "    - Operations + arguments (e.g. page/pagination, optional arguments)\n",
    "    - Strings (e.g. name, password hash, error messages)\n",
    "    - Status code (from the server to detect errors)\n",
    "    - Arrays of strings -> could be sent as string of strings separated by commas like a CSV\n",
    "        - VBS: we need to allow for commas in a string, should we just use ascii and then have a special non-ascii character for either both end of string and end of item or a separate one for end of item and end of string, kind of like '\\0' in C?\n",
    "        - Let's not use this. Let's use another, more flexible encoding instead\n",
    "    - Assuming that we never need to send over dictionaries but at most lists, we can use an encoding for \"fields\" like this:\n",
    "        - Field ID (1 byte), Field Length (2 bytes), Field Value (bytes)\n",
    "        - This would mean that the client and server need to agree on which field ID corresponds to which field (e.g. username -> ID 1 etc.), and -- importantly -- what the *type* of each field is (e.g. float, string, unsigned int/int, list of float/string etc.); also, there are only 2^8 = 255 possible fields we can use which should be enough for this application but may cause issues in the future if there is a lot of data that we need to transmit\n",
    "            - One possible workaround for this is to have an \"OTHER\" value kind of like in UTF-8 where if the first bit is set, you actually read 2 bytes for the field ID and use that as your index; this would be much more flexible but also more work to implement\n",
    "        - Do we want to allow lists of different types? Probably not necessary\n",
    "        - Side note: we can store the types efficiently using some byte flag for \"list\" and then different byte values for the type, and then check if \"list & type\" is 1 to detect that it's a list\n",
    "        - We should agree that we're using little-endian for all communication\n",
    "            - Is there any way to define flexible length types, e.g. specify \"int\" but then allow 8-byte integers?\n",
    "\n",
    "\n",
    "- How do you specify which messages you want to delete?\n",
    "    - Could go by message ID individually\n",
    "    - Could go by sender/receiver name"
   ]
  },
  {
   "cell_type": "markdown",
   "metadata": {},
   "source": [
    "### General Notes\n",
    "- Each request should carry a token to indicate that the user is logged in and to map the request to the correct account. Do we refresh this token? How often? Does the server just send back the new token with each request? In that case, what do we do if a packet is lost; this would automatically log the user out"
   ]
  },
  {
   "cell_type": "markdown",
   "metadata": {},
   "source": [
    "### User Interface Design\n",
    "\n",
    "- How do we display the unread messages?\n",
    "    - VBS: Maybe users want to be able to open the app without reading *any* messages, so we should only load messages on request\n",
    "    - We can either group them by conversation or just give a stream of messages ordered by timestamp\n",
    "    - Think: \"Refresh mail\" button in any standard Mail program\n",
    "- To send a message, should users be able to click on a conversation and send a message there or do we just have two input fields, one for the user name and one for the message, and then you just have to input the user name every time"
   ]
  },
  {
   "cell_type": "markdown",
   "metadata": {},
   "source": [
    "### Data Storage\n",
    "- How do we want to store the data? Should we just keep stuff in memory, should we use an actual database (e.g. sqlite) or just keep stuff in one or multiple JSON files?"
   ]
  },
  {
   "cell_type": "markdown",
   "metadata": {},
   "source": [
    "## Code Ideas"
   ]
  },
  {
   "cell_type": "markdown",
   "metadata": {},
   "source": [
    "Some ideas for what the field ID to field mapping could look like so that the data becomes a bit easier to use for the programmer and we don't need to know all of the field IDs by heart:"
   ]
  },
  {
   "cell_type": "code",
   "execution_count": null,
   "metadata": {
    "vscode": {
     "languageId": "plaintext"
    }
   },
   "outputs": [],
   "source": [
    "key_to_field_id = {\n",
    "    \"username\": 0,\n",
    "    \"password_digest\": 1,\n",
    "}\n",
    "\n",
    "key_to_field_type = {\n",
    "    \"username\": str,\n",
    "    \"password_digest\": str,\n",
    "    \"asdkjh\": int,\n",
    "}\n",
    "\n",
    "def get(data, field: str, default = None):\n",
    "    if field in key_to_field_id:\n",
    "        return data[key_to_field_id[id]]\n",
    "    \n",
    "    return default"
   ]
  },
  {
   "cell_type": "code",
   "execution_count": null,
   "metadata": {
    "vscode": {
     "languageId": "plaintext"
    }
   },
   "outputs": [],
   "source": [
    "0x20 -> list\n",
    "0x21 -> list of int\n",
    "0x22 -> list of str"
   ]
  },
  {
   "cell_type": "code",
   "execution_count": null,
   "metadata": {
    "vscode": {
     "languageId": "plaintext"
    }
   },
   "outputs": [],
   "source": [
    "class Message:\n",
    "    id: int\n",
    "    content: str\n",
    "    from_id: int\n",
    "    to_id: int\n",
    "    timestamp: datetime"
   ]
  },
  {
   "cell_type": "code",
   "execution_count": null,
   "metadata": {
    "vscode": {
     "languageId": "plaintext"
    }
   },
   "outputs": [],
   "source": [
    "{\n",
    "    \"messages\": [\n",
    "        {\n",
    "            \"id\": 1,\n",
    "            \"content\": \"My message\",\n",
    "            \"from_id\": 2,\n",
    "            \"to_id\": 3,\n",
    "            \"timestamp\": \"2025-01-01\"\n",
    "        }\n",
    "    ],\n",
    "    \"users\": [\n",
    "        {\n",
    "            \"id\": \n",
    "        }\n",
    "    ]\n",
    "}"
   ]
  },
  {
   "cell_type": "code",
   "execution_count": null,
   "metadata": {
    "vscode": {
     "languageId": "plaintext"
    }
   },
   "outputs": [],
   "source": [
    "def send(data):\n",
    "    "
   ]
  },
  {
   "cell_type": "code",
   "execution_count": null,
   "metadata": {
    "vscode": {
     "languageId": "plaintext"
    }
   },
   "outputs": [],
   "source": [
    "send(\"message\", {\"to\": \"test_user\", \"message\": \"hello\"})"
   ]
  },
  {
   "cell_type": "code",
   "execution_count": null,
   "metadata": {
    "vscode": {
     "languageId": "plaintext"
    }
   },
   "outputs": [],
   "source": [
    "\"hello\"\n",
    "\n",
    "message -> 3\n",
    "field_type -> str\n",
    "field_length -> 5"
   ]
  }
 ],
 "metadata": {
  "language_info": {
   "name": "python"
  }
 },
 "nbformat": 4,
 "nbformat_minor": 2
}
